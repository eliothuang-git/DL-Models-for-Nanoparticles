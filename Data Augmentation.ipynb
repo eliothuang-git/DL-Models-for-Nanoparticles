{
 "cells": [
  {
   "cell_type": "code",
   "execution_count": null,
   "id": "1c6ce122-2b30-45b3-b92f-a2cba44e35fa",
   "metadata": {},
   "outputs": [],
   "source": [
    "import os\n",
    "import random\n",
    "import numpy as np\n",
    "import torchvision\n",
    "\n",
    "from PIL import Image, ImageOps\n",
    "from glob import glob\n",
    "from torchvision import transforms"
   ]
  },
  {
   "cell_type": "code",
   "execution_count": 2,
   "id": "7cf763ff-afbc-4913-9603-44637f53042f",
   "metadata": {},
   "outputs": [],
   "source": [
    "def random_subset_images(root_dir: str, percent: float, extensions: set = {'.jpg', '.jpeg', '.png', '.bmp'}) -> list[str]:\n",
    "    \"\"\"\n",
    "    Randomly selects a subset of image file paths from the given root directory (recursively).\n",
    "    \n",
    "    Args:\n",
    "        root_dir (str): The root directory containing images.\n",
    "        percent (float): Fraction of images to select (0 < percent <= 1).\n",
    "        extensions (set): Allowed image file extensions (lowercase).\n",
    "    \n",
    "    Returns:\n",
    "        List[str]: Randomly selected image file paths.\n",
    "    \"\"\"\n",
    "    # Gather all image file paths\n",
    "    all_images = [y for x in os.walk(root_dir) \n",
    "                    for y in glob(os.path.join(x[0], '*')) \n",
    "                    if os.path.splitext(y)[1].lower() in extensions]\n",
    "    \n",
    "    if not (0 < percent <= 1):\n",
    "        raise ValueError(\"percent must be between 0 and 1 (exclusive of 0)\")\n",
    "    \n",
    "    num_to_select = int(len(all_images) * percent)\n",
    "    selected = random.sample(all_images, num_to_select)\n",
    "\n",
    "    return selected"
   ]
  },
  {
   "cell_type": "code",
   "execution_count": null,
   "id": "f4996b3f-8226-4d31-8492-e7704a355caf",
   "metadata": {},
   "outputs": [],
   "source": [
    "def augment(image_path: str):\n",
    "     \"\"\"\n",
    "    Randomly selects a subset of image file paths from the given root directory (recursively).\n",
    "    \n",
    "    Args:\n",
    "        image_path (str): The root directory containing images.\n",
    "    \"\"\"\n",
    "    image = Image.open(image_path).convert('RGB')\n",
    "    base_dir = os.path.dirname(image_path)\n",
    "    base_name = os.path.splitext(os.path.basename(image_path))[0]\n",
    "    ext = os.path.splitext(image_path)[1]\n",
    "\n",
    "    transform_list = [\n",
    "        transforms.RandomApply([transforms.RandomRotation(degrees=30)], p=0.25),\n",
    "        transforms.RandomApply([transforms.RandomHorizontalFlip(p=1.0)], p=0.25),\n",
    "        transforms.RandomApply([transforms.RandomVerticalFlip(p=1.0)], p=0.25),\n",
    "        transforms.RandomApply([transforms.GaussianBlur(kernel_size=(5, 9), sigma=(0.1, 5.0))], p=0.05),\n",
    "        transforms.RandomApply([transforms.RandomInvert(p=1.0)], p=0.025),\n",
    "        transforms.RandomApply([transforms.ColorJitter(brightness=0.5, contrast=0.5, saturation=0.5, hue=0.1)], p=0.025),\n",
    "        transforms.RandomApply([transforms.RandomAffine(degrees=15, translate=(0.1, 0.1))], p=0.05),\n",
    "        transforms.RandomApply([transforms.RandomAdjustSharpness(sharpness_factor=2)], p=0.05),\n",
    "        transforms.RandomApply([transforms.RandomEqualize()], p=0.025)\n",
    "    ]\n",
    "\n",
    "    composed = transforms.Compose(transform_list)\n",
    "\n",
    "    augmented = composed(image)\n",
    "\n",
    "    save_path = os.path.join(base_dir, f\"{base_name}_da{ext}\")\n",
    "    augmented.save(save_path)"
   ]
  },
  {
   "cell_type": "code",
   "execution_count": null,
   "id": "dbc74dd0-620b-4968-8cf1-594cf58362e5",
   "metadata": {},
   "outputs": [],
   "source": [
    "root_image_dir = \"ROOT DIRECTORY\"\n",
    "\n",
    "for path in random_subset_images(root_dir=root_image_dir, percent=.4):\n",
    "    augment(image_path=path)"
   ]
  }
 ],
 "metadata": {
  "kernelspec": {
   "display_name": "Python 3 (ipykernel)",
   "language": "python",
   "name": "python3"
  },
  "language_info": {
   "codemirror_mode": {
    "name": "ipython",
    "version": 3
   },
   "file_extension": ".py",
   "mimetype": "text/x-python",
   "name": "python",
   "nbconvert_exporter": "python",
   "pygments_lexer": "ipython3",
   "version": "3.11.7"
  }
 },
 "nbformat": 4,
 "nbformat_minor": 5
}
