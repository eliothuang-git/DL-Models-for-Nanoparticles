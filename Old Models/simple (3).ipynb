{
  "nbformat": 4,
  "nbformat_minor": 0,
  "metadata": {
    "colab": {
      "provenance": [],
      "collapsed_sections": [
        "rAM10aMw-3tE",
        "z513Xw5-A8rr",
        "6O5ZVGke1dZP",
        "L84dNsAlovD9",
        "GrrvoQIAo6Z1"
      ]
    },
    "kernelspec": {
      "name": "python3",
      "display_name": "Python 3"
    },
    "language_info": {
      "name": "python"
    }
  },
  "cells": [
    {
      "cell_type": "markdown",
      "source": [
        "## A image classification pipeline with PyTorch, model can be a single layer Conv2d.\n",
        "This example uses torchvision.datasets.FakeData as a placeholder dataset (you can replace it with CIFAR-10, MNIST, or your own)."
      ],
      "metadata": {
        "id": "Izs-nbZqnM-E"
      }
    },
    {
      "cell_type": "code",
      "source": [
        "import torch\n",
        "import torch.nn as nn\n",
        "import torch.optim as optim\n",
        "from torch.utils.data import DataLoader\n",
        "from torchvision import datasets, transforms\n",
        "from PIL import Image\n",
        "from IPython.display import display\n",
        "import glob\n",
        "import os\n"
      ],
      "metadata": {
        "id": "eLm0Nvp2nQp9"
      },
      "execution_count": null,
      "outputs": []
    },
    {
      "cell_type": "code",
      "source": [
        "from google.colab import drive\n",
        "drive.mount('/content/drive')"
      ],
      "metadata": {
        "colab": {
          "base_uri": "https://localhost:8080/"
        },
        "id": "_nAe4q8er_CI",
        "outputId": "5056181a-30ec-4af5-d657-947a19a26ba5"
      },
      "execution_count": null,
      "outputs": [
        {
          "output_type": "stream",
          "name": "stdout",
          "text": [
            "Mounted at /content/drive\n"
          ]
        }
      ]
    },
    {
      "cell_type": "markdown",
      "source": [
        "## Simple NN\n"
      ],
      "metadata": {
        "id": "zz77ed0A1GG5"
      }
    },
    {
      "cell_type": "code",
      "source": [
        "#Define the model\n",
        "\"\"\"\n",
        "class SingleConvNet(nn.Module):\n",
        "  def __init__(self, in_channels=1, num_classes=10):\n",
        "    super().__init__()\n",
        "    self.conv = nn.Conv2d(in_channels, 16, kernel_size=3, padding=1)\n",
        "    self.pool = nn.AdaptiveAvgPool2d((1, 1))\n",
        "    self.classifier = nn.Linear(16, num_classes)\n",
        "\n",
        "  def forward(self, x):\n",
        "    x = self.conv(x)          # (B, 16, 28, 28)\n",
        "    x = torch.relu(x)\n",
        "    x = self.pool(x)          # (B, 16, 1, 1)\n",
        "    x = torch.flatten(x, 1)   # (B, 16)\n",
        "    return self.classifier(x) # (B, 10)\n",
        "    \"\"\""
      ],
      "metadata": {
        "id": "bMnNt3XynQ59"
      },
      "execution_count": null,
      "outputs": []
    },
    {
      "cell_type": "markdown",
      "source": [
        "## If we want to add a deeper layer"
      ],
      "metadata": {
        "id": "rAM10aMw-3tE"
      }
    },
    {
      "cell_type": "code",
      "source": [
        " import torch.nn.functional as F # Import the functional module\n",
        "\n",
        " #Define the model\n",
        "class SingleConvNet(nn.Module):\n",
        "  def __init__(self, in_channels=3, num_classes=10): # Assuming 3 input channels from ImageFolder\n",
        "    super().__init__()\n",
        "    # First convolutional block\n",
        "    self.conv1 = nn.Conv2d(in_channels, 32, kernel_size=3, padding=1)  # Output: (B, 32, 32, 32) with 32x32 input\n",
        "    self.pool1 = nn.MaxPool2d(kernel_size=2, stride=2)                 # Output: (B, 32, 16, 16) with 32x32 input\n",
        "\n",
        "    # Second convolutional block\n",
        "    self.conv2 = nn.Conv2d(32, 64, kernel_size=3, padding=1)           # Output: (B, 64, 16, 16) with 32x32 input\n",
        "    self.pool2 = nn.MaxPool2d(kernel_size=2, stride=2)                 # Output: (B, 64, 8, 8) with 32x32 input\n",
        "\n",
        "    # Calculate the input size for the first fully connected layer\n",
        "    # Based on the output shape of the last pooling layer: 64 channels, 8x8 spatial dimensions\n",
        "    fc1_input_features = 64 * 8 * 8 # This should be 4096\n",
        "\n",
        "    # Fully connected layers\n",
        "    self.fc1 = nn.Linear(fc1_input_features, 128)\n",
        "    self.fc2 = nn.Linear(128, num_classes)\n",
        "\n",
        "  def forward(self, x):\n",
        "    # Convolutional layers with ReLU and pooling\n",
        "    x = F.relu(self.conv1(x))\n",
        "    x = self.pool1(x)\n",
        "\n",
        "    x = F.relu(self.conv2(x))\n",
        "    x = self.pool2(x)\n",
        "\n",
        "    # Flatten\n",
        "    x = x.view(x.size(0), -1)  # or torch.flatten(x, 1)\n",
        "\n",
        "    # Fully connected layers\n",
        "    x = F.relu(self.fc1(x))\n",
        "    x = self.fc2(x)\n",
        "\n",
        "    return x"
      ],
      "metadata": {
        "id": "cDs-Chjb-3YM"
      },
      "execution_count": null,
      "outputs": []
    },
    {
      "cell_type": "markdown",
      "source": [
        "## VGG16 Incorporated NN\n"
      ],
      "metadata": {
        "id": "z513Xw5-A8rr"
      }
    },
    {
      "cell_type": "code",
      "source": [
        "import torch\n",
        "import torch.nn as nn\n",
        "import torch.optim as optim\n",
        "from torch.utils.data import DataLoader\n",
        "from torchvision import datasets, transforms\n",
        "import torchvision.models as models\n",
        "\n",
        "class VGG16Classifier(nn.Module):\n",
        "    def __init__(self, num_classes=10, in_channels=3):\n",
        "        super(VGG16Classifier, self).__init__()\n",
        "        # Load pre-trained VGG16 model from torchvision\n",
        "        self.vgg16 = models.vgg16(weights = 'DEFAULT')\n",
        "\n",
        "        # Freeze the VGG16 feature layers\n",
        "        for param in self.vgg16.parameters():\n",
        "            param.requires_grad = False\n",
        "\n",
        "        self.vgg16.classifier = nn.Sequential(\n",
        "            nn.Linear(512 * 7 * 7, 512),\n",
        "            nn.ReLU(True),\n",
        "            nn.Dropout(0.5),\n",
        "            nn.Linear(512, num_classes)\n",
        "        )\n",
        "\n",
        "    def forward(self, x):\n",
        "        x = self.vgg16.features(x)\n",
        "        x = self.vgg16.avgpool(x)\n",
        "        x = torch.flatten(x, 1)\n",
        "        x = self.vgg16.classifier(x)\n",
        "        return x"
      ],
      "metadata": {
        "id": "uIzkZ07nA7CP"
      },
      "execution_count": null,
      "outputs": []
    },
    {
      "cell_type": "markdown",
      "source": [
        "## IGNORE: Zavala Stuff\n"
      ],
      "metadata": {
        "id": "6O5ZVGke1dZP"
      }
    },
    {
      "cell_type": "code",
      "source": [
        "from tensorflow.keras.applications.vgg16 import VGG16\n",
        "from tensorflow.keras.preprocessing import image\n",
        "from tensorflow.keras.applications.vgg16 import preprocess_input\n",
        "import numpy as np\n",
        "from tensorflow.keras.models import Model\n",
        "from os.path import dirname\n",
        "from os.path import basename\n",
        "import glob\n",
        "import pickle\n",
        "import os"
      ],
      "metadata": {
        "id": "c0XtAush1b6e"
      },
      "execution_count": null,
      "outputs": []
    },
    {
      "cell_type": "code",
      "source": [
        "base_model = VGG16(include_top=False,weights='imagenet')"
      ],
      "metadata": {
        "id": "e73mCmto1o-o"
      },
      "execution_count": null,
      "outputs": []
    },
    {
      "cell_type": "code",
      "source": [
        "Layer = 'block1_conv2'\n",
        "model = Model(inputs=base_model.input, outputs=[base_model.get_layer(Layer).output])"
      ],
      "metadata": {
        "id": "nWJRPBEE2FWA"
      },
      "execution_count": null,
      "outputs": []
    },
    {
      "cell_type": "code",
      "source": [
        "path_list = glob.glob('/content/drive/My Drive/Frechette Lab/train_dataset/*/*')"
      ],
      "metadata": {
        "id": "k2EYsEFq3DRg"
      },
      "execution_count": null,
      "outputs": []
    },
    {
      "cell_type": "code",
      "source": [
        "labels = []\n",
        "Descriptors_tot = []\n",
        "count = 1\n",
        "\n",
        "for y in path_list:\n",
        "\n",
        "    #Load and preprocess images.\n",
        "    img_path = y\n",
        "    img = image.load_img(img_path)\n",
        "    x = image.img_to_array(img)\n",
        "    x = np.expand_dims(x,axis=0)\n",
        "    x = preprocess_input(x)\n",
        "\n",
        "    #Process images and obtain output from selected convolutional filters.\n",
        "    Descriptors = model.predict(x)\n",
        "\n",
        "    #Create mean Descriptors from Filters.\n",
        "    mean_Descriptors = [[] for i in range(len(Descriptors))]\n",
        "\n",
        "    #Store label of each image.\n",
        "    label = basename(dirname(img_path))\n",
        "    labels = np.append(labels,label)\n",
        "\n",
        "    #Code if extracting more than one layer of features.\n",
        "    if len(Descriptors) >= 2:\n",
        "        for j in range(len(Descriptors)):\n",
        "            label = basename(dirname(img_path))\n",
        "            for i in range(np.size(Descriptors[j][0,0,0,:])):\n",
        "                mean_f = np.mean(Descriptors[j][0,:,:,i])\n",
        "                mean_Descriptors[j] = np.append(mean_Descriptors[j],mean_f)\n",
        "\n",
        "    #Code if extracting only a single layer of features.\n",
        "    else:\n",
        "        for i in range(np.size(Descriptors[0,0,0,:])):\n",
        "            mean_f = np.mean(Descriptors[0,:,:,i])\n",
        "            mean_Descriptors = np.append(mean_Descriptors,mean_f)\n",
        "\n",
        "    #Create large dictionary containing all descriptors.\n",
        "    Descriptors_tot.append(mean_Descriptors[:])\n",
        "\n",
        "    #Count to completion\n",
        "    frac = count/len(path_list)\n",
        "    print('\\x1b[2K\\r Percent Done {0}'.format(frac*100), end=\"\\r\"),\n",
        "    count += 1"
      ],
      "metadata": {
        "id": "0agq57Lk2l1Z"
      },
      "execution_count": null,
      "outputs": []
    },
    {
      "cell_type": "code",
      "source": [
        "with open('/content/drive/My Drive/Frechette Lab/Pickle Files/Descriptors001','wb') as fp:\n",
        "    pickle.dump(Descriptors_tot,fp)\n",
        "\n",
        "with open('/content/drive/My Drive/Frechette Lab/Pickle Files/Labels001','wb') as fp:\n",
        "    pickle.dump(labels,fp)"
      ],
      "metadata": {
        "id": "nE2Y_k-q28Kj"
      },
      "execution_count": null,
      "outputs": []
    },
    {
      "cell_type": "markdown",
      "source": [
        "### SVM Classifier"
      ],
      "metadata": {
        "id": "BThuy05t8Vjx"
      }
    },
    {
      "cell_type": "code",
      "source": [
        "import pickle\n",
        "from sklearn.svm import LinearSVC\n",
        "import numpy as np\n",
        "from sklearn.model_selection import cross_val_score\n",
        "from sklearn import preprocessing\n",
        "from scipy.stats.mstats import zscore\n",
        "from sklearn.decomposition import PCA\n",
        "import warnings\n",
        "from sklearn.exceptions import ConvergenceWarning\n",
        "warnings.filterwarnings(action='ignore', category=ConvergenceWarning)"
      ],
      "metadata": {
        "id": "RmCmuXvI8aaL"
      },
      "execution_count": null,
      "outputs": []
    },
    {
      "cell_type": "code",
      "source": [
        "with open('/content/drive/My Drive/Frechette Lab/Pickle Files/Descriptors001','rb') as fp:\n",
        "    Descriptors = pickle.load(fp)\n",
        "\n",
        "with open('/content/drive/My Drive/Frechette Lab/Pickle Files/Labels001','rb') as fp:\n",
        "    Labels = pickle.load(fp)"
      ],
      "metadata": {
        "id": "6StnFQJ48gmz"
      },
      "execution_count": null,
      "outputs": []
    },
    {
      "cell_type": "code",
      "source": [
        "Descriptors = np.vstack(Descriptors)\n",
        "Descriptors = zscore(Descriptors,axis = 0)"
      ],
      "metadata": {
        "id": "9YZE3Q8F9Liv"
      },
      "execution_count": null,
      "outputs": []
    },
    {
      "cell_type": "code",
      "source": [
        "lb = preprocessing.LabelBinarizer()\n",
        "Labels = lb.fit_transform(Labels)"
      ],
      "metadata": {
        "id": "-ZEPJ6N_9SNk"
      },
      "execution_count": null,
      "outputs": []
    },
    {
      "cell_type": "code",
      "source": [
        "clf = LinearSVC(penalty='l1',loss='squared_hinge',dual=False)"
      ],
      "metadata": {
        "id": "p4JKV44H9Umb"
      },
      "execution_count": null,
      "outputs": []
    },
    {
      "cell_type": "markdown",
      "source": [],
      "metadata": {
        "id": "k8qtRGqI9l_K"
      }
    },
    {
      "cell_type": "code",
      "source": [
        "scores = cross_val_score(clf,Descriptors,np.squeeze(Labels),cv=4, scoring = 'f1')\n",
        "print(\"f1: %0.2f (+/- %0.1f)\" % (scores.mean(), scores.std()))"
      ],
      "metadata": {
        "id": "u-_ZFQ0V9akt"
      },
      "execution_count": null,
      "outputs": []
    },
    {
      "cell_type": "code",
      "source": [
        "clf.fit(Descriptors,np.squeeze(Labels))\n",
        "weights = clf.coef_"
      ],
      "metadata": {
        "id": "erX5jNRU9tig"
      },
      "execution_count": null,
      "outputs": []
    },
    {
      "cell_type": "code",
      "source": [
        "ind = np.argsort(np.absolute(weights))\n",
        "top12 = ind[0][-12:]\n",
        "print('top 12 weights {0}'.format(top12))"
      ],
      "metadata": {
        "id": "xeVeGDtL9xdB"
      },
      "execution_count": null,
      "outputs": []
    },
    {
      "cell_type": "code",
      "source": [
        "signs = np.sign(weights[0][top12])\n",
        "print('sign of weights{} with positive class PE_1um_PBSxHEX_with lipids_1hr and negative class PE_1um_PBSxHEX_no lipids_1hr'.format(signs))"
      ],
      "metadata": {
        "id": "QIdoxLHf91PM"
      },
      "execution_count": null,
      "outputs": []
    },
    {
      "cell_type": "code",
      "source": [
        "Sum = np.sum(np.absolute(weights))\n",
        "dev = []\n",
        "for i in top12:\n",
        "    j = 100*np.absolute(weights[0][i])/Sum\n",
        "    dev.append(float(j))\n",
        "print('Percent of Total Assigned Weight {}'.format(dev))"
      ],
      "metadata": {
        "id": "7l6xWfvT-mH2"
      },
      "execution_count": null,
      "outputs": []
    },
    {
      "cell_type": "code",
      "source": [
        "Descriptors1 = Descriptors[:,top12]\n",
        "scores = cross_val_score(clf,Descriptors1,np.squeeze(Labels),cv = 4, scoring = 'f1')\n",
        "print(\"f1: %0.2f (+/- %0.2f)\" % (scores.mean(), scores.std() * 2))"
      ],
      "metadata": {
        "id": "dhFG_4L-_DNB"
      },
      "execution_count": null,
      "outputs": []
    },
    {
      "cell_type": "code",
      "source": [
        "clf.fit(Descriptors1,np.squeeze(Labels))\n",
        "weights1 = clf.coef_\n",
        "ind = np.argsort(np.absolute(weights1))\n",
        "top12value = top12[ind]\n",
        "top121 = ind[0][-12:]\n",
        "print('top 10 weights {0}'.format(top12value))"
      ],
      "metadata": {
        "id": "LyWOreRY_QJ6"
      },
      "execution_count": null,
      "outputs": []
    },
    {
      "cell_type": "code",
      "source": [
        "signs1 = np.sign(weights1[0][top121])\n",
        "print('sign of weights{} with positive class \"with lipids\"'.format(signs1))"
      ],
      "metadata": {
        "id": "i2eQE6tF_Wyq"
      },
      "execution_count": null,
      "outputs": []
    },
    {
      "cell_type": "code",
      "source": [
        "Sum = np.sum(np.absolute(weights1))\n",
        "dev = []\n",
        "for i in top121:\n",
        "    j = 100*np.absolute(weights1[0][i])/Sum\n",
        "    dev.append(float(j))\n",
        "print('Percent of Total Assigned Weight {}'.format(dev))"
      ],
      "metadata": {
        "id": "a0aeAzEE_f22"
      },
      "execution_count": null,
      "outputs": []
    },
    {
      "cell_type": "markdown",
      "source": [
        "## Preprocessing\n"
      ],
      "metadata": {
        "id": "iDll-a37rlIm"
      }
    },
    {
      "cell_type": "code",
      "source": [
        "# First crops 1440 x 1080 images into 24 224 x 224 images.\n",
        "import os\n",
        "\n",
        "path_list = glob.glob('/content/drive/My Drive/Frechette Lab/train_dataset/*/*')\n",
        "output_base_dir = '/content/drive/My Drive/Frechette Lab/train_processed_dataset' # New base directory for processed images\n",
        "\n",
        "def preprocess(image_path, output, crop_height=224, crop_width=224):\n",
        "    img = Image.open(image_path)\n",
        "    width, height = img.size\n",
        "    rows = height // crop_height\n",
        "    cols = width // crop_width\n",
        "\n",
        "    base_name = os.path.splitext(os.path.basename(image_path))[0]\n",
        "    ext = os.path.splitext(os.path.basename(image_path))[1]\n",
        "\n",
        "    # Get the class name from the immediate parent directory of the image\n",
        "    class_name = os.path.basename(os.path.dirname(image_path))\n",
        "\n",
        "    # Construct the output directory using the new base and the class name\n",
        "    output_dir = os.path.join(output, class_name)\n",
        "    os.makedirs(output_dir, exist_ok=True) # Create directory if it doesn't exist\n",
        "\n",
        "    for i in range(rows):\n",
        "        for j in range(cols):\n",
        "            left = j * crop_width\n",
        "            upper = i * crop_height\n",
        "            right = left + crop_width\n",
        "            lower = upper + crop_height\n",
        "            cropped_img = img.crop((left, upper, right, lower))\n",
        "            # Construct the new filename using the original base name and extension\n",
        "            new_filename = f\"{base_name}_{i}_{j}{ext}\"\n",
        "            save_path = os.path.join(output_dir, new_filename)\n",
        "            cropped_img.save(save_path)\n",
        "\n",
        "for y in path_list:\n",
        "    preprocess(y, output = output_base_dir)\n",
        "    print(f\"File {y} preprocessed\")"
      ],
      "metadata": {
        "id": "v-KmadY5rjbQ",
        "colab": {
          "base_uri": "https://localhost:8080/"
        },
        "outputId": "213f6e28-2a90-4ce9-a008-93f09236a487"
      },
      "execution_count": null,
      "outputs": [
        {
          "output_type": "stream",
          "name": "stdout",
          "text": [
            "File /content/drive/My Drive/Frechette Lab/train_dataset/PE_1um_PBSxHEX_no lipids_1hr/Copy of 0301-8-nolipids-1hr-scale0000.png preprocessed\n",
            "File /content/drive/My Drive/Frechette Lab/train_dataset/PE_1um_PBSxHEX_no lipids_1hr/Copy of 130514.094.bmp preprocessed\n",
            "File /content/drive/My Drive/Frechette Lab/train_dataset/PE_1um_PBSxHEX_no lipids_1hr/Copy of 133521.785.bmp preprocessed\n",
            "File /content/drive/My Drive/Frechette Lab/train_dataset/PE_1um_PBSxHEX_no lipids_1hr/Copy of 164155.858.bmp preprocessed\n",
            "File /content/drive/My Drive/Frechette Lab/train_dataset/PE_1um_PBSxHEX_no lipids_1hr/Copy of 164759.745.bmp preprocessed\n",
            "File /content/drive/My Drive/Frechette Lab/train_dataset/PE_1um_PBSxHEX_no lipids_1hr/Copy of 171352.302.bmp preprocessed\n",
            "File /content/drive/My Drive/Frechette Lab/train_dataset/PE_1um_PBSxHEX_no lipids_1hr/Copy of 140743.293.bmp preprocessed\n",
            "File /content/drive/My Drive/Frechette Lab/train_dataset/PE_1um_PBSxHEX_no lipids_1hr/Copy of 164134.452.bmp preprocessed\n",
            "File /content/drive/My Drive/Frechette Lab/train_dataset/PE_1um_PBSxHEX_no lipids_1hr/Copy of 171420.973.bmp preprocessed\n",
            "File /content/drive/My Drive/Frechette Lab/train_dataset/PE_1um_PBSxHEX_with lipids_1hr/Copy of 165702.153.bmp preprocessed\n",
            "File /content/drive/My Drive/Frechette Lab/train_dataset/PE_1um_PBSxHEX_with lipids_1hr/Copy of 0301-9-withlipids-1hr-scale0002.png preprocessed\n",
            "File /content/drive/My Drive/Frechette Lab/train_dataset/PE_1um_PBSxHEX_with lipids_1hr/Copy of 172959.108.bmp preprocessed\n",
            "File /content/drive/My Drive/Frechette Lab/train_dataset/PE_1um_PBSxHEX_with lipids_1hr/Copy of 125319.359.bmp preprocessed\n",
            "File /content/drive/My Drive/Frechette Lab/train_dataset/PE_1um_PBSxHEX_with lipids_1hr/Copy of 172957.297.bmp preprocessed\n",
            "File /content/drive/My Drive/Frechette Lab/train_dataset/PE_1um_PBSxHEX_with lipids_1hr/Copy of 153949.774.bmp preprocessed\n",
            "File /content/drive/My Drive/Frechette Lab/train_dataset/PE_1um_PBSxHEX_with lipids_1hr/Copy of 173749.043.bmp preprocessed\n",
            "File /content/drive/My Drive/Frechette Lab/train_dataset/PE_1um_PBSxHEX_with lipids_1hr/Copy of 154029.824.bmp preprocessed\n",
            "File /content/drive/My Drive/Frechette Lab/train_dataset/PS_1um_PBSxHEX_no lipids/Copy of 0104-buffer110182.png preprocessed\n",
            "File /content/drive/My Drive/Frechette Lab/train_dataset/PS_1um_PBSxHEX_no lipids/Copy of 172239.693.bmp preprocessed\n",
            "File /content/drive/My Drive/Frechette Lab/train_dataset/PS_1um_PBSxHEX_no lipids/Copy of 160725.776.bmp preprocessed\n",
            "File /content/drive/My Drive/Frechette Lab/train_dataset/PS_1um_PBSxHEX_no lipids/Copy of 171827.481.bmp preprocessed\n",
            "File /content/drive/My Drive/Frechette Lab/train_dataset/PS_1um_PBSxHEX_no lipids/Copy of 0104-buffer120001.png preprocessed\n",
            "File /content/drive/My Drive/Frechette Lab/train_dataset/PS_1um_PBSxHEX_no lipids/Copy of 163302.099.bmp preprocessed\n",
            "File /content/drive/My Drive/Frechette Lab/train_dataset/PS_1um_PBSxHEX_no lipids/Copy of Image0009.png preprocessed\n",
            "File /content/drive/My Drive/Frechette Lab/train_dataset/PS_1um_PBSxHEX_no lipids/Copy of Image0181.png preprocessed\n",
            "File /content/drive/My Drive/Frechette Lab/train_dataset/PS_1um_PBSxHEX_no lipids/Copy of 122551.040.bmp preprocessed\n",
            "File /content/drive/My Drive/Frechette Lab/train_dataset/PS_1um_PBSxHEX_no lipids/Copy of 0104-buffer120032.png preprocessed\n"
          ]
        }
      ]
    },
    {
      "cell_type": "markdown",
      "source": [
        "## Dataset and Data loader"
      ],
      "metadata": {
        "id": "3LhD7MgtnoWe"
      }
    },
    {
      "cell_type": "code",
      "source": [
        "try:\n",
        "    # Using the pre-defined transform from the notebook\n",
        "    train_dataset = datasets.ImageFolder(root=image_data_root, transform=transform)\n",
        "    print(f\"Found {len(train_dataset)} images belonging to {len(train_dataset.classes)} classes.\")\n",
        "\n",
        "    # Increase num_workers for faster data loading by using multiple processes\n",
        "    # The optimal number of workers depends on your system and dataset size.\n",
        "    # A common starting point is the number of CPU cores.\n",
        "    train_loader = DataLoader(train_dataset, batch_size=32, shuffle=True, num_workers=2) # You can adjust num_workers\n",
        "    print(\"DataLoader created successfully.\")\n",
        "\n",
        "except Exception as e:\n",
        "    print(f\"Error creating ImageFolder dataset: {e}\")\n",
        "    print(\"Please ensure the directory structure in\")\n",
        "    print(f\"{image_data_root} follows the ImageFolder convention (subdirectories for classes).\")\n",
        "    print(\"Also check file permissions and that the directory exists.\")"
      ],
      "metadata": {
        "colab": {
          "base_uri": "https://localhost:8080/"
        },
        "id": "kbA9m4Al0IVw",
        "outputId": "f2089d6c-6a31-4096-81d7-aac0484644f8"
      },
      "execution_count": null,
      "outputs": [
        {
          "output_type": "stream",
          "name": "stdout",
          "text": [
            "Found 27 images belonging to 3 classes.\n",
            "DataLoader created successfully.\n"
          ]
        }
      ]
    },
    {
      "cell_type": "code",
      "source": [
        "path_list = glob.glob('/content/drive/My Drive/Frechette Lab/train_dataset/*/*')\n",
        "output_base_dir = '/content/drive/My Drive/Frechette Lab/train_processed_dataset'\n",
        "try:\n",
        "    train_dataset = datasets.ImageFolder(root= '/content/drive/My Drive/Frechette Lab/train_dataset', transform=transforms.Compose([transforms.Resize((32,32)), transforms.ToTensor()]))\n",
        "    print(f\"Found {len(train_dataset)} images belonging to {len(train_dataset.classes)} classes.\")\n",
        "\n",
        "    train_loader = DataLoader(train_dataset, batch_size=32, shuffle=True, num_workers=2)\n",
        "    print(\"DataLoader created successfully.\")\n",
        "\n",
        "except Exception as e:\n",
        "    print(f\"Error creating ImageFolder dataset: {e}\")\n",
        "    print(\"Please ensure the directory structure in\")\n",
        "    print(f\"{output_base_dir} follows the ImageFolder convention (subdirectories for classes).\")\n",
        "    print(\"Also check file permissions and that the directory exists.\")"
      ],
      "metadata": {
        "colab": {
          "base_uri": "https://localhost:8080/"
        },
        "id": "TRz0HKa2gz01",
        "outputId": "9c550454-c4be-44df-b3f1-e0ff1ad70e19"
      },
      "execution_count": null,
      "outputs": [
        {
          "output_type": "stream",
          "name": "stdout",
          "text": [
            "Found 27 images belonging to 3 classes.\n",
            "DataLoader created successfully.\n"
          ]
        }
      ]
    },
    {
      "cell_type": "markdown",
      "source": [
        "## Show Images"
      ],
      "metadata": {
        "id": "10ra51258kK_"
      }
    },
    {
      "cell_type": "code",
      "source": [
        "# To view transformed images\n",
        "\n",
        "def showimg(dataset):\n",
        "    for image, labels in dataset:\n",
        "        to_pil = transforms.ToPILImage()\n",
        "        image = to_pil(image)\n",
        "        display(image)\n",
        "\n",
        "showimg(train_dataset)\n"
      ],
      "metadata": {
        "colab": {
          "base_uri": "https://localhost:8080/",
          "height": 881
        },
        "id": "h-s4d7DnlBLf",
        "outputId": "a7a1b65a-10c8-4b04-e2dc-c6696aeed8f6"
      },
      "execution_count": null,
      "outputs": [
        {
          "output_type": "display_data",
          "data": {
            "text/plain": [
              "<PIL.Image.Image image mode=RGB size=32x32>"
            ],
            "image/png": "[encoded data removed]",
            "image/jpeg": "[encoded data removed]"
          },
          "metadata": {}
        },
        {
          "output_type": "display_data",
          "data": {
            "text/plain": [
              "<PIL.Image.Image image mode=RGB size=32x32>"
            ],
            "image/png": "[encoded data removed]",
            "image/jpeg": "[encoded data removed]"
          },
          "metadata": {}
        },
        {
          "output_type": "display_data",
          "data": {
            "text/plain": [
              "<PIL.Image.Image image mode=RGB size=32x32>"
            ],
            "image/png": "[encoded data removed]",
            "image/jpeg": "[encoded data removed]"
          },
          "metadata": {}
        },
        {
          "output_type": "display_data",
          "data": {
            "text/plain": [
              "<PIL.Image.Image image mode=RGB size=32x32>"
            ],
            "image/png": "[encoded data removed]",
            "image/jpeg": "[encoded data removed]"
          },
          "metadata": {}
        },
        {
          "output_type": "display_data",
          "data": {
            "text/plain": [
              "<PIL.Image.Image image mode=RGB size=32x32>"
            ],
            "image/png": "[encoded data removed]",
            "image/jpeg": "[encoded data removed]"
          },
          "metadata": {}
        },
        {
          "output_type": "display_data",
          "data": {
            "text/plain": [
              "<PIL.Image.Image image mode=RGB size=32x32>"
            ],
            "image/png": "[encoded data removed]",
            "image/jpeg": "[encoded data removed]"
          },
          "metadata": {}
        },
        {
          "output_type": "display_data",
          "data": {
            "text/plain": [
              "<PIL.Image.Image image mode=RGB size=32x32>"
            ],
            "image/png": "[encoded data removed]",
            "image/jpeg": "[encoded data removed]"
          },
          "metadata": {}
        },
        {
          "output_type": "display_data",
          "data": {
            "text/plain": [
              "<PIL.Image.Image image mode=RGB size=32x32>"
            ],
            "image/png": "[encoded data removed]",
            "image/jpeg": "[encoded data removed]"
          },
          "metadata": {}
        },
        {
          "output_type": "display_data",
          "data": {
            "text/plain": [
              "<PIL.Image.Image image mode=RGB size=32x32>"
            ],
            "image/png": "[encoded data removed]",
            "image/jpeg": "[encoded data removed]"
          },
          "metadata": {}
        },
        {
          "output_type": "display_data",
          "data": {
            "text/plain": [
              "<PIL.Image.Image image mode=RGB size=32x32>"
            ],
            "image/png": "[encoded data removed]",
            "image/jpeg": "[encoded data removed]"
          },
          "metadata": {}
        },
        {
          "output_type": "display_data",
          "data": {
            "text/plain": [
              "<PIL.Image.Image image mode=RGB size=32x32>"
            ],
            "image/png": "[encoded data removed]",
            "image/jpeg": "[encoded data removed]"
          },
          "metadata": {}
        },
        {
          "output_type": "display_data",
          "data": {
            "text/plain": [
              "<PIL.Image.Image image mode=RGB size=32x32>"
            ],
            "image/png": "[encoded data removed]",
            "image/jpeg": "[encoded data removed]"
          },
          "metadata": {}
        },
        {
          "output_type": "display_data",
          "data": {
            "text/plain": [
              "<PIL.Image.Image image mode=RGB size=32x32>"
            ],
            "image/png": "[encoded data removed]",
            "image/jpeg": "[encoded data removed]"
          },
          "metadata": {}
        },
        {
          "output_type": "display_data",
          "data": {
            "text/plain": [
              "<PIL.Image.Image image mode=RGB size=32x32>"
            ],
            "image/png": "[encoded data removed]",
            "image/jpeg": "[encoded data removed]"
          },
          "metadata": {}
        },
        {
          "output_type": "display_data",
          "data": {
            "text/plain": [
              "<PIL.Image.Image image mode=RGB size=32x32>"
            ],
            "image/png": "[encoded data removed]",
            "image/jpeg": "[encoded data removed]"
          },
          "metadata": {}
        },
        {
          "output_type": "display_data",
          "data": {
            "text/plain": [
              "<PIL.Image.Image image mode=RGB size=32x32>"
            ],
            "image/png": "[encoded data removed]",
            "image/jpeg": "[encoded data removed]"
          },
          "metadata": {}
        },
        {
          "output_type": "display_data",
          "data": {
            "text/plain": [
              "<PIL.Image.Image image mode=RGB size=32x32>"
            ],
            "image/png": "[encoded data removed]",
            "image/jpeg": "[encoded data removed]"
          },
          "metadata": {}
        },
        {
          "output_type": "display_data",
          "data": {
            "text/plain": [
              "<PIL.Image.Image image mode=RGB size=32x32>"
            ],
            "image/png": "[encoded data removed]",
            "image/jpeg": "[encoded data removed]"
          },
          "metadata": {}
        },
        {
          "output_type": "display_data",
          "data": {
            "text/plain": [
              "<PIL.Image.Image image mode=RGB size=32x32>"
            ],
            "image/png": "[encoded data removed]",
            "image/jpeg": "[encoded data removed]"
          },
          "metadata": {}
        },
        {
          "output_type": "display_data",
          "data": {
            "text/plain": [
              "<PIL.Image.Image image mode=RGB size=32x32>"
            ],
            "image/png": "[encoded data removed]",
            "image/jpeg": "[encoded data removed]"
          },
          "metadata": {}
        },
        {
          "output_type": "display_data",
          "data": {
            "text/plain": [
              "<PIL.Image.Image image mode=RGB size=32x32>"
            ],
            "image/png": "[encoded data removed]",
            "image/jpeg": "[encoded data removed]"
          },
          "metadata": {}
        },
        {
          "output_type": "display_data",
          "data": {
            "text/plain": [
              "<PIL.Image.Image image mode=RGB size=32x32>"
            ],
            "image/png": "[encoded data removed]",
            "image/jpeg": "[encoded data removed]"
          },
          "metadata": {}
        },
        {
          "output_type": "display_data",
          "data": {
            "text/plain": [
              "<PIL.Image.Image image mode=RGB size=32x32>"
            ],
            "image/png": "[encoded data removed]",
            "image/jpeg": "[encoded data removed]"
          },
          "metadata": {}
        },
        {
          "output_type": "display_data",
          "data": {
            "text/plain": [
              "<PIL.Image.Image image mode=RGB size=32x32>"
            ],
            "image/png": "[encoded data removed]",
            "image/jpeg": "[encoded data removed]"
          },
          "metadata": {}
        },
        {
          "output_type": "display_data",
          "data": {
            "text/plain": [
              "<PIL.Image.Image image mode=RGB size=32x32>"
            ],
            "image/png": "[encoded data removed]",
            "image/jpeg": "[encoded data removed]"
          },
          "metadata": {}
        },
        {
          "output_type": "display_data",
          "data": {
            "text/plain": [
              "<PIL.Image.Image image mode=RGB size=32x32>"
            ],
            "image/png": "[encoded data removed]",
            "image/jpeg": "[encoded data removed]"
          },
          "metadata": {}
        },
        {
          "output_type": "display_data",
          "data": {
            "text/plain": [
              "<PIL.Image.Image image mode=RGB size=32x32>"
            ],
            "image/png": "[encoded data removed]",
            "image/jpeg": "[encoded data removed]"
          },
          "metadata": {}
        }
      ]
    },
    {
      "cell_type": "markdown",
      "source": [
        "## Training loop"
      ],
      "metadata": {
        "id": "XLsWd--MnlyW"
      }
    },
    {
      "cell_type": "code",
      "source": [
        "def evaluate(model, loader):\n",
        "    model.eval()\n",
        "    correct = 0\n",
        "    total = 0\n",
        "    with torch.no_grad():\n",
        "        for images, labels in loader:\n",
        "            images, labels = images.to(device), labels.to(device)\n",
        "            outputs = model(images)\n",
        "            _, predicted = outputs.max(1)\n",
        "            correct += (predicted == labels).sum().item()\n",
        "            total += labels.size(0)\n",
        "    return 100 * correct / total"
      ],
      "metadata": {
        "id": "YAdbHwkNn1oU"
      },
      "execution_count": null,
      "outputs": []
    },
    {
      "cell_type": "code",
      "source": [
        "import matplotlib.pyplot as plt\n",
        "\n",
        "# Track epoch loss and accuracy for plotting\n",
        "epoch_losses = []\n",
        "epoch_accuracies = []\n",
        "\n",
        "device = torch.device(\"cuda\" if torch.cuda.is_available() else \"cpu\")\n",
        "\n",
        "# which model to use\n",
        "model_dict = {\n",
        "    'SimpleNet': {\n",
        "        'path': \"/content/drive/My Drive/Frechette Lab/SimpleNet_weights.pt\",\n",
        "        'model': SingleConvNet(in_channels=3).to(device)\n",
        "    },\n",
        "    'VGG16Classifier': {\n",
        "        'path': \"/content/drive/My Drive/Frechette Lab/VGG16Classifier_weights.pt\",\n",
        "        'model': VGG16Classifier(in_channels=3).to(device)\n",
        "    }\n",
        "}\n",
        "\n",
        "WEIGHTS_PATH = model_dict['VGG16Classifier']['path']\n",
        "model = model_dict['VGG16Classifier']['model']\n",
        "\n",
        "# Load saved weights\n",
        "try:\n",
        "    state_dict = torch.load(WEIGHTS_PATH, map_location=device)\n",
        "    model.load_state_dict(state_dict)\n",
        "    print(f\"Successfully loaded model weights from {WEIGHTS_PATH}\")\n",
        "except FileNotFoundError:\n",
        "    print(f\"Warning: Weights file not found at {WEIGHTS_PATH}. Starting training with random initialization.\")\n",
        "except RuntimeError as e:\n",
        "    print(f\"Error loading state_dict: {e}\")\n",
        "    print(\"This might happen if the model architecture does not match the saved weights.\")\n",
        "    print(\"Starting training with random initialization.\")\n",
        "\n",
        "criterion = nn.CrossEntropyLoss()\n",
        "optimizer = optim.Adam(model.parameters(), lr=1e-3)\n",
        "\n",
        "TEST_PATH = glob.glob('/content/drive/My Drive/Frechette Lab/test_dataset/*/*')\n",
        "test_output = '/content/drive/My Drive/Frechette Lab/test_processed_dataset'\n",
        "for image in TEST_PATH:\n",
        "    preprocess(image, output = test_output)\n",
        "test_dataset = datasets.ImageFolder(root=test_output, transform=transforms.ToTensor())\n",
        "test_loader = DataLoader(test_dataset, batch_size=32, shuffle=False, num_workers=2)\n",
        "\n",
        "print(\"Starting training...\")\n",
        "for epoch in range(10):\n",
        "    model.train()\n",
        "    running_loss = 0.0\n",
        "    for images, labels in train_loader:\n",
        "        images, labels = images.to(device), labels.to(device)\n",
        "\n",
        "        optimizer.zero_grad()\n",
        "        outputs = model(images)\n",
        "        loss = criterion(outputs, labels)\n",
        "        loss.backward()\n",
        "        optimizer.step()\n",
        "\n",
        "        running_loss += loss.item()\n",
        "\n",
        "    avg_loss = running_loss / len(train_loader)\n",
        "    epoch_losses.append(avg_loss)\n",
        "\n",
        "    #evaluate\n",
        "    accuracy = evaluate(model, test_loader)\n",
        "    epoch_accuracies.append(accuracy)\n",
        "\n",
        "    print(f\"Epoch {epoch+1}, Loss: {avg_loss:.4f}, Test Accuracy: {accuracy:.2f}%\")\n",
        "\n",
        "print(\"Training finished.\")\n",
        "\n",
        "# Save updated weights\n",
        "try:\n",
        "    torch.save(model.state_dict(), WEIGHTS_PATH)\n",
        "    print(f\"Successfully saved updated model weights to {WEIGHTS_PATH}\")\n",
        "except Exception as e:\n",
        "    print(f\"Error saving model weights: {e}\")\n",
        "\n",
        "epochs = range(1, len(epoch_losses) + 1)\n",
        "\n",
        "#Plot the loss over epochs\n",
        "plt.figure()\n",
        "plt.plot(range(1, len(epoch_losses) + 1), epoch_losses, marker='o')\n",
        "plt.xlabel(\"Epoch\")\n",
        "plt.ylabel(\"Loss\")\n",
        "plt.title(\"Training Loss Over Epochs\")\n",
        "plt.grid(True)\n",
        "plt.show()\n",
        "\n",
        "#Plot the accuracy over epochs\n",
        "plt.figure()\n",
        "plt.plot(range(1, len(epoch_accuracies) + 1), [a for a in epoch_accuracies], marker='s')\n",
        "plt.xlabel(\"Epoch\")\n",
        "plt.ylabel(\"Accuracy (%)\")\n",
        "plt.title(\"Test Accuracy Over Epochs\")\n",
        "plt.grid(True)\n",
        "plt.show()"
      ],
      "metadata": {
        "id": "9gY_QKK7nlCN",
        "colab": {
          "base_uri": "https://localhost:8080/",
          "height": 492
        },
        "outputId": "50e7802c-c0d8-425d-aaea-1b19d6ab1558"
      },
      "execution_count": null,
      "outputs": [
        {
          "output_type": "stream",
          "name": "stdout",
          "text": [
            "Warning: Weights file not found at /content/drive/My Drive/Frechette Lab/VGG16Classifier_weights.pt. Starting training with random initialization.\n",
            "Starting training...\n"
          ]
        },
        {
          "output_type": "error",
          "ename": "KeyboardInterrupt",
          "evalue": "",
          "traceback": [
            "\u001b[0;31m---------------------------------------------------------------------------\u001b[0m",
            "\u001b[0;31mKeyboardInterrupt\u001b[0m                         Traceback (most recent call last)",
            "\u001b[0;32m/tmp/ipython-input-17-2402691309.py\u001b[0m in \u001b[0;36m<cell line: 0>\u001b[0;34m()\u001b[0m\n\u001b[1;32m     52\u001b[0m \u001b[0;34m\u001b[0m\u001b[0m\n\u001b[1;32m     53\u001b[0m         \u001b[0moptimizer\u001b[0m\u001b[0;34m.\u001b[0m\u001b[0mzero_grad\u001b[0m\u001b[0;34m(\u001b[0m\u001b[0;34m)\u001b[0m\u001b[0;34m\u001b[0m\u001b[0;34m\u001b[0m\u001b[0m\n\u001b[0;32m---> 54\u001b[0;31m         \u001b[0moutputs\u001b[0m \u001b[0;34m=\u001b[0m \u001b[0mmodel\u001b[0m\u001b[0;34m(\u001b[0m\u001b[0mimages\u001b[0m\u001b[0;34m)\u001b[0m\u001b[0;34m\u001b[0m\u001b[0;34m\u001b[0m\u001b[0m\n\u001b[0m\u001b[1;32m     55\u001b[0m         \u001b[0mloss\u001b[0m \u001b[0;34m=\u001b[0m \u001b[0mcriterion\u001b[0m\u001b[0;34m(\u001b[0m\u001b[0moutputs\u001b[0m\u001b[0;34m,\u001b[0m \u001b[0mlabels\u001b[0m\u001b[0;34m)\u001b[0m\u001b[0;34m\u001b[0m\u001b[0;34m\u001b[0m\u001b[0m\n\u001b[1;32m     56\u001b[0m         \u001b[0mloss\u001b[0m\u001b[0;34m.\u001b[0m\u001b[0mbackward\u001b[0m\u001b[0;34m(\u001b[0m\u001b[0;34m)\u001b[0m\u001b[0;34m\u001b[0m\u001b[0;34m\u001b[0m\u001b[0m\n",
            "\u001b[0;32m/usr/local/lib/python3.11/dist-packages/torch/nn/modules/module.py\u001b[0m in \u001b[0;36m_wrapped_call_impl\u001b[0;34m(self, *args, **kwargs)\u001b[0m\n\u001b[1;32m   1737\u001b[0m             \u001b[0;32mreturn\u001b[0m \u001b[0mself\u001b[0m\u001b[0;34m.\u001b[0m\u001b[0m_compiled_call_impl\u001b[0m\u001b[0;34m(\u001b[0m\u001b[0;34m*\u001b[0m\u001b[0margs\u001b[0m\u001b[0;34m,\u001b[0m \u001b[0;34m**\u001b[0m\u001b[0mkwargs\u001b[0m\u001b[0;34m)\u001b[0m  \u001b[0;31m# type: ignore[misc]\u001b[0m\u001b[0;34m\u001b[0m\u001b[0;34m\u001b[0m\u001b[0m\n\u001b[1;32m   1738\u001b[0m         \u001b[0;32melse\u001b[0m\u001b[0;34m:\u001b[0m\u001b[0;34m\u001b[0m\u001b[0;34m\u001b[0m\u001b[0m\n\u001b[0;32m-> 1739\u001b[0;31m             \u001b[0;32mreturn\u001b[0m \u001b[0mself\u001b[0m\u001b[0;34m.\u001b[0m\u001b[0m_call_impl\u001b[0m\u001b[0;34m(\u001b[0m\u001b[0;34m*\u001b[0m\u001b[0margs\u001b[0m\u001b[0;34m,\u001b[0m \u001b[0;34m**\u001b[0m\u001b[0mkwargs\u001b[0m\u001b[0;34m)\u001b[0m\u001b[0;34m\u001b[0m\u001b[0;34m\u001b[0m\u001b[0m\n\u001b[0m\u001b[1;32m   1740\u001b[0m \u001b[0;34m\u001b[0m\u001b[0m\n\u001b[1;32m   1741\u001b[0m     \u001b[0;31m# torchrec tests the code consistency with the following code\u001b[0m\u001b[0;34m\u001b[0m\u001b[0;34m\u001b[0m\u001b[0m\n",
            "\u001b[0;32m/usr/local/lib/python3.11/dist-packages/torch/nn/modules/module.py\u001b[0m in \u001b[0;36m_call_impl\u001b[0;34m(self, *args, **kwargs)\u001b[0m\n\u001b[1;32m   1748\u001b[0m                 \u001b[0;32mor\u001b[0m \u001b[0m_global_backward_pre_hooks\u001b[0m \u001b[0;32mor\u001b[0m \u001b[0m_global_backward_hooks\u001b[0m\u001b[0;34m\u001b[0m\u001b[0;34m\u001b[0m\u001b[0m\n\u001b[1;32m   1749\u001b[0m                 or _global_forward_hooks or _global_forward_pre_hooks):\n\u001b[0;32m-> 1750\u001b[0;31m             \u001b[0;32mreturn\u001b[0m \u001b[0mforward_call\u001b[0m\u001b[0;34m(\u001b[0m\u001b[0;34m*\u001b[0m\u001b[0margs\u001b[0m\u001b[0;34m,\u001b[0m \u001b[0;34m**\u001b[0m\u001b[0mkwargs\u001b[0m\u001b[0;34m)\u001b[0m\u001b[0;34m\u001b[0m\u001b[0;34m\u001b[0m\u001b[0m\n\u001b[0m\u001b[1;32m   1751\u001b[0m \u001b[0;34m\u001b[0m\u001b[0m\n\u001b[1;32m   1752\u001b[0m         \u001b[0mresult\u001b[0m \u001b[0;34m=\u001b[0m \u001b[0;32mNone\u001b[0m\u001b[0;34m\u001b[0m\u001b[0;34m\u001b[0m\u001b[0m\n",
            "\u001b[0;32m/tmp/ipython-input-3-3813249595.py\u001b[0m in \u001b[0;36mforward\u001b[0;34m(self, x)\u001b[0m\n\u001b[1;32m     24\u001b[0m \u001b[0;34m\u001b[0m\u001b[0m\n\u001b[1;32m     25\u001b[0m     \u001b[0;32mdef\u001b[0m \u001b[0mforward\u001b[0m\u001b[0;34m(\u001b[0m\u001b[0mself\u001b[0m\u001b[0;34m,\u001b[0m \u001b[0mx\u001b[0m\u001b[0;34m)\u001b[0m\u001b[0;34m:\u001b[0m\u001b[0;34m\u001b[0m\u001b[0;34m\u001b[0m\u001b[0m\n\u001b[0;32m---> 26\u001b[0;31m         \u001b[0mx\u001b[0m \u001b[0;34m=\u001b[0m \u001b[0mself\u001b[0m\u001b[0;34m.\u001b[0m\u001b[0mvgg16\u001b[0m\u001b[0;34m.\u001b[0m\u001b[0mfeatures\u001b[0m\u001b[0;34m(\u001b[0m\u001b[0mx\u001b[0m\u001b[0;34m)\u001b[0m\u001b[0;34m\u001b[0m\u001b[0;34m\u001b[0m\u001b[0m\n\u001b[0m\u001b[1;32m     27\u001b[0m         \u001b[0mx\u001b[0m \u001b[0;34m=\u001b[0m \u001b[0mself\u001b[0m\u001b[0;34m.\u001b[0m\u001b[0mvgg16\u001b[0m\u001b[0;34m.\u001b[0m\u001b[0mavgpool\u001b[0m\u001b[0;34m(\u001b[0m\u001b[0mx\u001b[0m\u001b[0;34m)\u001b[0m\u001b[0;34m\u001b[0m\u001b[0;34m\u001b[0m\u001b[0m\n\u001b[1;32m     28\u001b[0m         \u001b[0mx\u001b[0m \u001b[0;34m=\u001b[0m \u001b[0mtorch\u001b[0m\u001b[0;34m.\u001b[0m\u001b[0mflatten\u001b[0m\u001b[0;34m(\u001b[0m\u001b[0mx\u001b[0m\u001b[0;34m,\u001b[0m \u001b[0;36m1\u001b[0m\u001b[0;34m)\u001b[0m\u001b[0;34m\u001b[0m\u001b[0;34m\u001b[0m\u001b[0m\n",
            "\u001b[0;32m/usr/local/lib/python3.11/dist-packages/torch/nn/modules/module.py\u001b[0m in \u001b[0;36m_wrapped_call_impl\u001b[0;34m(self, *args, **kwargs)\u001b[0m\n\u001b[1;32m   1737\u001b[0m             \u001b[0;32mreturn\u001b[0m \u001b[0mself\u001b[0m\u001b[0;34m.\u001b[0m\u001b[0m_compiled_call_impl\u001b[0m\u001b[0;34m(\u001b[0m\u001b[0;34m*\u001b[0m\u001b[0margs\u001b[0m\u001b[0;34m,\u001b[0m \u001b[0;34m**\u001b[0m\u001b[0mkwargs\u001b[0m\u001b[0;34m)\u001b[0m  \u001b[0;31m# type: ignore[misc]\u001b[0m\u001b[0;34m\u001b[0m\u001b[0;34m\u001b[0m\u001b[0m\n\u001b[1;32m   1738\u001b[0m         \u001b[0;32melse\u001b[0m\u001b[0;34m:\u001b[0m\u001b[0;34m\u001b[0m\u001b[0;34m\u001b[0m\u001b[0m\n\u001b[0;32m-> 1739\u001b[0;31m             \u001b[0;32mreturn\u001b[0m \u001b[0mself\u001b[0m\u001b[0;34m.\u001b[0m\u001b[0m_call_impl\u001b[0m\u001b[0;34m(\u001b[0m\u001b[0;34m*\u001b[0m\u001b[0margs\u001b[0m\u001b[0;34m,\u001b[0m \u001b[0;34m**\u001b[0m\u001b[0mkwargs\u001b[0m\u001b[0;34m)\u001b[0m\u001b[0;34m\u001b[0m\u001b[0;34m\u001b[0m\u001b[0m\n\u001b[0m\u001b[1;32m   1740\u001b[0m \u001b[0;34m\u001b[0m\u001b[0m\n\u001b[1;32m   1741\u001b[0m     \u001b[0;31m# torchrec tests the code consistency with the following code\u001b[0m\u001b[0;34m\u001b[0m\u001b[0;34m\u001b[0m\u001b[0m\n",
            "\u001b[0;32m/usr/local/lib/python3.11/dist-packages/torch/nn/modules/module.py\u001b[0m in \u001b[0;36m_call_impl\u001b[0;34m(self, *args, **kwargs)\u001b[0m\n\u001b[1;32m   1748\u001b[0m                 \u001b[0;32mor\u001b[0m \u001b[0m_global_backward_pre_hooks\u001b[0m \u001b[0;32mor\u001b[0m \u001b[0m_global_backward_hooks\u001b[0m\u001b[0;34m\u001b[0m\u001b[0;34m\u001b[0m\u001b[0m\n\u001b[1;32m   1749\u001b[0m                 or _global_forward_hooks or _global_forward_pre_hooks):\n\u001b[0;32m-> 1750\u001b[0;31m             \u001b[0;32mreturn\u001b[0m \u001b[0mforward_call\u001b[0m\u001b[0;34m(\u001b[0m\u001b[0;34m*\u001b[0m\u001b[0margs\u001b[0m\u001b[0;34m,\u001b[0m \u001b[0;34m**\u001b[0m\u001b[0mkwargs\u001b[0m\u001b[0;34m)\u001b[0m\u001b[0;34m\u001b[0m\u001b[0;34m\u001b[0m\u001b[0m\n\u001b[0m\u001b[1;32m   1751\u001b[0m \u001b[0;34m\u001b[0m\u001b[0m\n\u001b[1;32m   1752\u001b[0m         \u001b[0mresult\u001b[0m \u001b[0;34m=\u001b[0m \u001b[0;32mNone\u001b[0m\u001b[0;34m\u001b[0m\u001b[0;34m\u001b[0m\u001b[0m\n",
            "\u001b[0;32m/usr/local/lib/python3.11/dist-packages/torch/nn/modules/container.py\u001b[0m in \u001b[0;36mforward\u001b[0;34m(self, input)\u001b[0m\n\u001b[1;32m    248\u001b[0m     \u001b[0;32mdef\u001b[0m \u001b[0mforward\u001b[0m\u001b[0;34m(\u001b[0m\u001b[0mself\u001b[0m\u001b[0;34m,\u001b[0m \u001b[0minput\u001b[0m\u001b[0;34m)\u001b[0m\u001b[0;34m:\u001b[0m\u001b[0;34m\u001b[0m\u001b[0;34m\u001b[0m\u001b[0m\n\u001b[1;32m    249\u001b[0m         \u001b[0;32mfor\u001b[0m \u001b[0mmodule\u001b[0m \u001b[0;32min\u001b[0m \u001b[0mself\u001b[0m\u001b[0;34m:\u001b[0m\u001b[0;34m\u001b[0m\u001b[0;34m\u001b[0m\u001b[0m\n\u001b[0;32m--> 250\u001b[0;31m             \u001b[0minput\u001b[0m \u001b[0;34m=\u001b[0m \u001b[0mmodule\u001b[0m\u001b[0;34m(\u001b[0m\u001b[0minput\u001b[0m\u001b[0;34m)\u001b[0m\u001b[0;34m\u001b[0m\u001b[0;34m\u001b[0m\u001b[0m\n\u001b[0m\u001b[1;32m    251\u001b[0m         \u001b[0;32mreturn\u001b[0m \u001b[0minput\u001b[0m\u001b[0;34m\u001b[0m\u001b[0;34m\u001b[0m\u001b[0m\n\u001b[1;32m    252\u001b[0m \u001b[0;34m\u001b[0m\u001b[0m\n",
            "\u001b[0;32m/usr/local/lib/python3.11/dist-packages/torch/nn/modules/module.py\u001b[0m in \u001b[0;36m_wrapped_call_impl\u001b[0;34m(self, *args, **kwargs)\u001b[0m\n\u001b[1;32m   1737\u001b[0m             \u001b[0;32mreturn\u001b[0m \u001b[0mself\u001b[0m\u001b[0;34m.\u001b[0m\u001b[0m_compiled_call_impl\u001b[0m\u001b[0;34m(\u001b[0m\u001b[0;34m*\u001b[0m\u001b[0margs\u001b[0m\u001b[0;34m,\u001b[0m \u001b[0;34m**\u001b[0m\u001b[0mkwargs\u001b[0m\u001b[0;34m)\u001b[0m  \u001b[0;31m# type: ignore[misc]\u001b[0m\u001b[0;34m\u001b[0m\u001b[0;34m\u001b[0m\u001b[0m\n\u001b[1;32m   1738\u001b[0m         \u001b[0;32melse\u001b[0m\u001b[0;34m:\u001b[0m\u001b[0;34m\u001b[0m\u001b[0;34m\u001b[0m\u001b[0m\n\u001b[0;32m-> 1739\u001b[0;31m             \u001b[0;32mreturn\u001b[0m \u001b[0mself\u001b[0m\u001b[0;34m.\u001b[0m\u001b[0m_call_impl\u001b[0m\u001b[0;34m(\u001b[0m\u001b[0;34m*\u001b[0m\u001b[0margs\u001b[0m\u001b[0;34m,\u001b[0m \u001b[0;34m**\u001b[0m\u001b[0mkwargs\u001b[0m\u001b[0;34m)\u001b[0m\u001b[0;34m\u001b[0m\u001b[0;34m\u001b[0m\u001b[0m\n\u001b[0m\u001b[1;32m   1740\u001b[0m \u001b[0;34m\u001b[0m\u001b[0m\n\u001b[1;32m   1741\u001b[0m     \u001b[0;31m# torchrec tests the code consistency with the following code\u001b[0m\u001b[0;34m\u001b[0m\u001b[0;34m\u001b[0m\u001b[0m\n",
            "\u001b[0;32m/usr/local/lib/python3.11/dist-packages/torch/nn/modules/module.py\u001b[0m in \u001b[0;36m_call_impl\u001b[0;34m(self, *args, **kwargs)\u001b[0m\n\u001b[1;32m   1748\u001b[0m                 \u001b[0;32mor\u001b[0m \u001b[0m_global_backward_pre_hooks\u001b[0m \u001b[0;32mor\u001b[0m \u001b[0m_global_backward_hooks\u001b[0m\u001b[0;34m\u001b[0m\u001b[0;34m\u001b[0m\u001b[0m\n\u001b[1;32m   1749\u001b[0m                 or _global_forward_hooks or _global_forward_pre_hooks):\n\u001b[0;32m-> 1750\u001b[0;31m             \u001b[0;32mreturn\u001b[0m \u001b[0mforward_call\u001b[0m\u001b[0;34m(\u001b[0m\u001b[0;34m*\u001b[0m\u001b[0margs\u001b[0m\u001b[0;34m,\u001b[0m \u001b[0;34m**\u001b[0m\u001b[0mkwargs\u001b[0m\u001b[0;34m)\u001b[0m\u001b[0;34m\u001b[0m\u001b[0;34m\u001b[0m\u001b[0m\n\u001b[0m\u001b[1;32m   1751\u001b[0m \u001b[0;34m\u001b[0m\u001b[0m\n\u001b[1;32m   1752\u001b[0m         \u001b[0mresult\u001b[0m \u001b[0;34m=\u001b[0m \u001b[0;32mNone\u001b[0m\u001b[0;34m\u001b[0m\u001b[0;34m\u001b[0m\u001b[0m\n",
            "\u001b[0;32m/usr/local/lib/python3.11/dist-packages/torch/nn/modules/conv.py\u001b[0m in \u001b[0;36mforward\u001b[0;34m(self, input)\u001b[0m\n\u001b[1;32m    552\u001b[0m \u001b[0;34m\u001b[0m\u001b[0m\n\u001b[1;32m    553\u001b[0m     \u001b[0;32mdef\u001b[0m \u001b[0mforward\u001b[0m\u001b[0;34m(\u001b[0m\u001b[0mself\u001b[0m\u001b[0;34m,\u001b[0m \u001b[0minput\u001b[0m\u001b[0;34m:\u001b[0m \u001b[0mTensor\u001b[0m\u001b[0;34m)\u001b[0m \u001b[0;34m->\u001b[0m \u001b[0mTensor\u001b[0m\u001b[0;34m:\u001b[0m\u001b[0;34m\u001b[0m\u001b[0;34m\u001b[0m\u001b[0m\n\u001b[0;32m--> 554\u001b[0;31m         \u001b[0;32mreturn\u001b[0m \u001b[0mself\u001b[0m\u001b[0;34m.\u001b[0m\u001b[0m_conv_forward\u001b[0m\u001b[0;34m(\u001b[0m\u001b[0minput\u001b[0m\u001b[0;34m,\u001b[0m \u001b[0mself\u001b[0m\u001b[0;34m.\u001b[0m\u001b[0mweight\u001b[0m\u001b[0;34m,\u001b[0m \u001b[0mself\u001b[0m\u001b[0;34m.\u001b[0m\u001b[0mbias\u001b[0m\u001b[0;34m)\u001b[0m\u001b[0;34m\u001b[0m\u001b[0;34m\u001b[0m\u001b[0m\n\u001b[0m\u001b[1;32m    555\u001b[0m \u001b[0;34m\u001b[0m\u001b[0m\n\u001b[1;32m    556\u001b[0m \u001b[0;34m\u001b[0m\u001b[0m\n",
            "\u001b[0;32m/usr/local/lib/python3.11/dist-packages/torch/nn/modules/conv.py\u001b[0m in \u001b[0;36m_conv_forward\u001b[0;34m(self, input, weight, bias)\u001b[0m\n\u001b[1;32m    547\u001b[0m                 \u001b[0mself\u001b[0m\u001b[0;34m.\u001b[0m\u001b[0mgroups\u001b[0m\u001b[0;34m,\u001b[0m\u001b[0;34m\u001b[0m\u001b[0;34m\u001b[0m\u001b[0m\n\u001b[1;32m    548\u001b[0m             )\n\u001b[0;32m--> 549\u001b[0;31m         return F.conv2d(\n\u001b[0m\u001b[1;32m    550\u001b[0m             \u001b[0minput\u001b[0m\u001b[0;34m,\u001b[0m \u001b[0mweight\u001b[0m\u001b[0;34m,\u001b[0m \u001b[0mbias\u001b[0m\u001b[0;34m,\u001b[0m \u001b[0mself\u001b[0m\u001b[0;34m.\u001b[0m\u001b[0mstride\u001b[0m\u001b[0;34m,\u001b[0m \u001b[0mself\u001b[0m\u001b[0;34m.\u001b[0m\u001b[0mpadding\u001b[0m\u001b[0;34m,\u001b[0m \u001b[0mself\u001b[0m\u001b[0;34m.\u001b[0m\u001b[0mdilation\u001b[0m\u001b[0;34m,\u001b[0m \u001b[0mself\u001b[0m\u001b[0;34m.\u001b[0m\u001b[0mgroups\u001b[0m\u001b[0;34m\u001b[0m\u001b[0;34m\u001b[0m\u001b[0m\n\u001b[1;32m    551\u001b[0m         )\n",
            "\u001b[0;31mKeyboardInterrupt\u001b[0m: "
          ]
        }
      ]
    },
    {
      "cell_type": "markdown",
      "source": [
        "## Test evaluation\n",
        "add a test set in a similar way with model.eval() and no gradients"
      ],
      "metadata": {
        "id": "JtEROsvGnOT2"
      }
    },
    {
      "cell_type": "code",
      "source": [
        "\n",
        "TEST_PATH = \"/content/drive/My Drive/Frechette Lab/test_dataset\"\n",
        "test_dataset = datasets.ImageFolder(root=TEST_PATH, transform=transform)\n",
        "print(f\"Found {len(test_dataset)} images belonging to {len(test_dataset.classes)} classes.\")\n",
        "test_loader = DataLoader(test_dataset, batch_size=32, shuffle=False)\n",
        "evaluate(model, test_loader)"
      ],
      "metadata": {
        "colab": {
          "base_uri": "https://localhost:8080/"
        },
        "id": "PXWAocMioo6z",
        "outputId": "b5145683-e33d-48fb-ac8d-fca1f76e5864"
      },
      "execution_count": null,
      "outputs": [
        {
          "output_type": "stream",
          "name": "stdout",
          "text": [
            "Found 10 images belonging to 3 classes.\n"
          ]
        },
        {
          "output_type": "execute_result",
          "data": {
            "text/plain": [
              "20.0"
            ]
          },
          "metadata": {},
          "execution_count": 35
        }
      ]
    },
    {
      "cell_type": "markdown",
      "source": [],
      "metadata": {
        "id": "HfGIhkpf-h81"
      }
    },
    {
      "cell_type": "markdown",
      "source": [
        "## Load PNG dataset and resize\n",
        "\n",
        "If you have raw .png images (like MNIST digits stored as PNGs), here's a PyTorch-compatible pipeline to:\n",
        "\n",
        "Load the image from disk\n",
        "\n",
        "Transform it to tensor\n",
        "\n",
        "Normalize / resize if needed\n",
        "\n",
        "Feed it into your SingleConvNet"
      ],
      "metadata": {
        "id": "L84dNsAlovD9"
      }
    },
    {
      "cell_type": "code",
      "source": [
        "from PIL import Image\n",
        "import torch\n",
        "from torchvision import transforms\n",
        "\n",
        "# 1. Define transform (for MNIST-like PNGs)\n",
        "transform = transforms.Compose([\n",
        "    transforms.Grayscale(),        # ensure it's single-channel\n",
        "    transforms.Resize((28, 28)),   # resize to 28x28 if needed\n",
        "    transforms.ToTensor(),         # convert to tensor in [0,1], shape (1, 28, 28)\n",
        "])\n",
        "\n",
        "# 2. Load PNG image\n",
        "#image_path =  '/content/drive/My Drive/Machine learning and DL/CNN_MNP_GUV/PE_no lipids_1hr/0301-8-nolipids-1hr-scale0000.png'\n",
        "image_path =  '/content/drive/My Drive/Machine learning and DL/CNN_MNP_GUV/number2.png'\n",
        "\n",
        "img = Image.open(image_path).convert('RGB')  # or 'L' for grayscale\n",
        "\n",
        "# 3. Apply transform\n",
        "tensor_img = transform(img)  # shape: (1, 28, 28)\n",
        "\n",
        "# 4. Add batch dimension and move to device\n",
        "input_tensor = tensor_img.unsqueeze(0).to(\"cuda\" if torch.cuda.is_available() else \"cpu\")\n",
        "\n",
        "# 5. Model inference\n",
        "model.eval()\n",
        "with torch.no_grad():\n",
        "    output = model(input_tensor)\n",
        "    predicted_label = output.argmax(dim=1).item()\n",
        "\n",
        "print(f\"Predicted Label: {predicted_label}\")"
      ],
      "metadata": {
        "id": "CeRwF-20o0WN"
      },
      "execution_count": null,
      "outputs": []
    },
    {
      "cell_type": "markdown",
      "source": [],
      "metadata": {
        "id": "LDJTKPws1p8X"
      }
    },
    {
      "cell_type": "markdown",
      "source": [
        "## Notes\n",
        ".unsqueeze(0) adds the batch dimension: from (1, 28, 28) to (1, 1, 28, 28)\n",
        "\n",
        "If your model expects RGB (unlikely for MNIST), skip transforms.Grayscale()\n",
        "\n",
        "If your PNGs are already 28×28 grayscale, just use ToTensor() safely\n",
        "\n",
        "Next; a batch loader for multiple PNG files in a folder."
      ],
      "metadata": {
        "id": "GrrvoQIAo6Z1"
      }
    },
    {
      "cell_type": "code",
      "metadata": {
        "id": "0b82d869"
      },
      "source": [
        "from google.colab import drive\n",
        "drive.mount('/content/drive')"
      ],
      "execution_count": null,
      "outputs": []
    },
    {
      "cell_type": "markdown",
      "metadata": {
        "id": "363617eb"
      },
      "source": [
        "After running the cell above and following the instructions to mount your Google Drive, your files will be accessible under `/content/drive/My Drive/`. You'll need to update the `image_path` in the code to reflect the actual location of your image file within your Google Drive.\n",
        "\n",
        "For example, if you uploaded the image to a folder named `Training data` in your Google Drive, the path might look like this:"
      ]
    },
    {
      "cell_type": "code",
      "metadata": {
        "id": "3bcf4e53"
      },
      "source": [
        "image_path = '/content/drive/My Drive/Training data/PE_no lipids_1hr/0301-8-nolipids-1hr-scale0000.png'"
      ],
      "execution_count": null,
      "outputs": []
    }
  ]
}